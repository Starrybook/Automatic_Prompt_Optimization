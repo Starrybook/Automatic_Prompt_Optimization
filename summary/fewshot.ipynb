{
 "cells": [
  {
   "cell_type": "code",
   "execution_count": null,
   "metadata": {},
   "outputs": [],
   "source": [
    "from utils import *\n",
    "TARGET_MODEL = \"gpt-3.5-turbo\"\n",
    "TASK_CODE_NAME = 'summary-fewshot-0'\n",
    "# TASK_CODE_NAME = 'summary-fewshot-enhanced-0'\n",
    "GSM8K_RESPONSES_DIR = \"../data/response/gsm8k\" + '/' + TASK_CODE_NAME\n",
    "if not os.path.exists(GSM8K_RESPONSES_DIR):\n",
    "    os.makedirs(GSM8K_RESPONSES_DIR)\n",
    "DEBUG = True\n",
    "CURRENT_DATASET = \"gsm8k\"\n",
    "eval_file_path = '../data/gsm8k/eval.json'\n",
    "\n",
    "random.seed(0)\n",
    "SHOT_NUM = 1\n",
    "few_shot_list = gen_samples_from_dataset(eval_file_path, SHOT_NUM, keep_orginal_order=False)\n",
    "best_prompt_inst_beam_seed_0 = 'Break down the calculations for each individual item separately before combining them to ensure accuracy. Clearly define and explain the variables used in the equation to avoid confusion in the calculations. Provide a step-by-step breakdown of the total calculation process, including how to apply any discounts or conversions, to guarantee each part is accurately accounted for before arriving at the final result.'\n",
    "best_prompt_inst_beam_seed_1 = 'Break down the calculations step by step, clearly indicating how each part of the problem is being addressed. Provide detailed explanations for key concepts and operations involved in the problem to ensure a comprehensive understanding. Use different scenarios and values to demonstrate the concept of depreciation and its impact on the total price calculation over time. Ensure the logic and mathematical operations are outlined accurately in each calculation for each year of depreciation.'\n",
    "best_prompt_inst_beam_seed_2 = 'Break down the calculation of individual item costs into separate steps, clearly showing the multiplication for each item separately before combining them. Provide a step-by-step explanation of how to calculate the total cost before applying any discount, delineating the individual costs of each item and the final sum before moving on to the discount calculation. Ensure to identify key variables and information to accurately perform the calculations and equations. Make sure to break down complex tasks into smaller components and provide clear intermediate steps for each calculation.'\n",
    "prompt_inst = get_initial_prompt_insts(CURRENT_DATASET, 1, if_shuffle=False)[0]\n",
    "# prompt_inst = {\"inst\": best_prompt_inst_beam_seed_0, \"accuracy\": 0.0, \"responses_path\": \"\"}\n",
    "\n",
    "print(\"Prompt exmple:\")\n",
    "print(gen_fewshot_whole_prompt_from_inst(CURRENT_DATASET, prompt_inst[\"inst\"], \"<Question here>\", few_shot_list))"
   ]
  },
  {
   "cell_type": "code",
   "execution_count": null,
   "metadata": {},
   "outputs": [],
   "source": [
    "\"\"\" test \"\"\"\n",
    "test_file_path = '../data/gsm8k/test.json'\n",
    "TEST_SAMPLE_NUM = 100\n",
    "test_set = gen_samples_from_dataset(test_file_path, TEST_SAMPLE_NUM, keep_orginal_order=True)\n",
    "test_responses = get_target_model_responses(\n",
    "    CURRENT_DATASET, TARGET_MODEL, \"\", GSM8K_RESPONSES_DIR, \n",
    "    test_set, prompt_inst[\"inst\"], if_print=False,\n",
    "    if_few_shot=True, few_shot_list=few_shot_list\n",
    ")\n",
    "test_responses_path = write_target_model_responses(\n",
    "    TARGET_MODEL + f\"_test_shot-{SHOT_NUM}\",\n",
    "    GSM8K_RESPONSES_DIR, \n",
    "    test_responses\n",
    ")\n",
    "accuracy_rate = evaluation_gsm8k(CURRENT_DATASET, test_responses_path)\n",
    "print(f\"Accuracy rate on test set: {accuracy_rate}\")"
   ]
  },
  {
   "cell_type": "code",
   "execution_count": null,
   "metadata": {},
   "outputs": [],
   "source": [
    "# \"\"\" test baseline \"\"\"\n",
    "# test_file_path = '../data/gsm8k/test.json'\n",
    "# TEST_SAMPLE_NUM = 100\n",
    "# test_set = gen_samples_from_dataset(test_file_path, TEST_SAMPLE_NUM, keep_orginal_order=True)\n",
    "# test_responses = get_target_model_responses(\n",
    "#     CURRENT_DATASET, TARGET_MODEL, \"\", GSM8K_RESPONSES_DIR, \n",
    "#     test_set, prompt_inst[\"inst\"], if_print=False\n",
    "# )\n",
    "# test_responses_path = write_target_model_responses(\n",
    "#     TARGET_MODEL + f\"_test_baseline\",\n",
    "#     GSM8K_RESPONSES_DIR, \n",
    "#     test_responses\n",
    "# )\n",
    "# accuracy_rate = evaluation_gsm8k(CURRENT_DATASET, test_responses_path)\n",
    "# print(f\"Accuracy rate on test set: {accuracy_rate}\")"
   ]
  }
 ],
 "metadata": {
  "kernelspec": {
   "display_name": "pteng",
   "language": "python",
   "name": "python3"
  },
  "language_info": {
   "codemirror_mode": {
    "name": "ipython",
    "version": 3
   },
   "file_extension": ".py",
   "mimetype": "text/x-python",
   "name": "python",
   "nbconvert_exporter": "python",
   "pygments_lexer": "ipython3",
   "version": "3.11.7"
  }
 },
 "nbformat": 4,
 "nbformat_minor": 2
}
