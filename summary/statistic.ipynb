{
 "cells": [
  {
   "cell_type": "code",
   "execution_count": 2,
   "metadata": {},
   "outputs": [
    {
     "name": "stdout",
     "output_type": "stream",
     "text": [
      "corr_0:  [[1.         0.83068781]\n",
      " [0.83068781 1.        ]]\n",
      "corr_1:  [[1.         0.66715397]\n",
      " [0.66715397 1.        ]]\n",
      "corr_2:  [[1.         0.90229153]\n",
      " [0.90229153 1.        ]]\n"
     ]
    }
   ],
   "source": [
    "import numpy as np\n",
    "\n",
    "# 两组数\n",
    "x_0 = np.array([0.19,0.3,0.32,0.5,0.52,0.52,0.61,0.61,0.7])\n",
    "y_0 = np.array([0.27,0.27,0.37,0.375,0.34,0.505,0.43,0.485,0.49])\n",
    "x_1 = np.array([0.18,0.31,0.43,0.51,0.51,0.54,0.54,0.67,0.67])\n",
    "y_1 = np.array([0.265,0.295,0.405,0.45,0.335,0.41,0.495,0.395,0.39])\n",
    "x_2 = np.array([0.31,0.4,0.4,0.59,0.68,0.7,0.7,0.7,0.7])\n",
    "y_2 = np.array([0.355,0.315,0.49,0.57,0.59,0.59,0.6,0.585,0.575])\n",
    "\n",
    "# 计算相关系数\n",
    "corr_0 = np.corrcoef(x_0, y_0)\n",
    "corr_1 = np.corrcoef(x_1, y_1)\n",
    "corr_2 = np.corrcoef(x_2, y_2)\n",
    "\n",
    "print(\"corr_0: \", corr_0)\n",
    "print(\"corr_1: \", corr_1)\n",
    "print(\"corr_2: \", corr_2)"
   ]
  }
 ],
 "metadata": {
  "kernelspec": {
   "display_name": "pteng",
   "language": "python",
   "name": "python3"
  },
  "language_info": {
   "codemirror_mode": {
    "name": "ipython",
    "version": 3
   },
   "file_extension": ".py",
   "mimetype": "text/x-python",
   "name": "python",
   "nbconvert_exporter": "python",
   "pygments_lexer": "ipython3",
   "version": "3.11.7"
  }
 },
 "nbformat": 4,
 "nbformat_minor": 2
}
